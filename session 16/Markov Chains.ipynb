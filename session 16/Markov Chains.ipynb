{
 "cells": [
  {
   "cell_type": "code",
   "execution_count": 2,
   "metadata": {},
   "outputs": [],
   "source": [
    "import requests"
   ]
  },
  {
   "cell_type": "code",
   "execution_count": 9,
   "metadata": {},
   "outputs": [],
   "source": [
    "data = requests.get(\"https://raw.githubusercontent.com/coding-blocks-archives/ML-Noida-2019-June-Two/master/datasets/speeches/speech.txt\")"
   ]
  },
  {
   "cell_type": "code",
   "execution_count": 10,
   "metadata": {},
   "outputs": [],
   "source": [
    "text = data.text"
   ]
  },
  {
   "cell_type": "code",
   "execution_count": 11,
   "metadata": {},
   "outputs": [
    {
     "name": "stdout",
     "output_type": "stream",
     "text": [
      "26 8 2016, India\n",
      "Niti Aayog\n",
      "There was a time when development was believed to depend on the quantity of capital and labour. Today we know that it depends as much on the quality of institutions and ideas. Early last year, a new institution was created, namely, the National Institution for Transforming India or NITI. NITI was created as an evidence based think tank to guide India’s transformation.\n",
      "One of NITI’s functions is:\n",
      "- to mainstream external ideas into Government policies, through collaboration with national and international experts;\n",
      "- to be the Government’s link to the outside world, outside experts and practitioners;\n",
      "- to be the instrument through which ideas from outside are incorporated into policy-making.\n",
      "The Government of India and the State Governments have a long administrative tradition. This tradition combines indigenous and external ideas from India’s past. This administrative tradition has served India well in many ways. Above all, it has preserved democracy and fede\n"
     ]
    }
   ],
   "source": [
    "print(text[:1000])"
   ]
  },
  {
   "cell_type": "raw",
   "metadata": {},
   "source": [
    "text = \"the man was .... they then the the ....  the .... they ...\"\n",
    "\n",
    "# Supervised Model (X => window size k = 3)  Y=> K+1\n",
    "\n",
    "  X       Y        freq  Prob\n",
    "\"the\"     \"_\"       4    4/7\n",
    "\"the\"     \"y\"       2    2/7\n",
    "\"the\"     \"n\"       1    1/7\n",
    "\n",
    "\n",
    "\"he \"     \"m\"       1\n",
    "\"e m\"     \"a\"       1\n",
    "\n",
    "\"man\"     \"_\"       1"
   ]
  },
  {
   "cell_type": "code",
   "execution_count": 18,
   "metadata": {},
   "outputs": [],
   "source": [
    "def getTransitionTable(data, k = 4 ):\n",
    "    T = {}\n",
    "    \n",
    "    for i in range(len(data) - k):\n",
    "        X = data[i:i+k]\n",
    "        Y = data[i+k]\n",
    "    \n",
    "        if T.get(X) is None:\n",
    "            T[X] = {}\n",
    "            T[X][Y] = 1\n",
    "        else:\n",
    "            if T[X].get(Y) is None:\n",
    "                T[X][Y] = 1\n",
    "            else:\n",
    "                T[X][Y] +=1\n",
    "    \n",
    "    return T"
   ]
  },
  {
   "cell_type": "code",
   "execution_count": 19,
   "metadata": {},
   "outputs": [],
   "source": [
    "T = getTransitionTable(text)"
   ]
  },
  {
   "cell_type": "code",
   "execution_count": null,
   "metadata": {},
   "outputs": [],
   "source": []
  },
  {
   "cell_type": "code",
   "execution_count": 46,
   "metadata": {},
   "outputs": [],
   "source": [
    "def convertFreqIntoProb(T):\n",
    "    for kx in T.keys():\n",
    "        s = float(sum(T[kx].values()))\n",
    "        for k in T[kx].keys():\n",
    "            T[kx][k] = T[kx][k]/s\n",
    "            \n",
    "    return T"
   ]
  },
  {
   "cell_type": "code",
   "execution_count": 47,
   "metadata": {},
   "outputs": [],
   "source": [
    "T = convertFreqIntoProb(T)"
   ]
  },
  {
   "cell_type": "code",
   "execution_count": 49,
   "metadata": {},
   "outputs": [
    {
     "data": {
      "text/plain": [
       "{'A': 0.0425531914893617,\n",
       " ' ': 0.7872340425531915,\n",
       " ',': 0.0425531914893617,\n",
       " \"'\": 0.0851063829787234,\n",
       " '.': 0.02127659574468085,\n",
       " 'j': 0.02127659574468085}"
      ]
     },
     "execution_count": 49,
     "metadata": {},
     "output_type": "execute_result"
    }
   ],
   "source": [
    "T['Modi']"
   ]
  },
  {
   "cell_type": "markdown",
   "metadata": {},
   "source": [
    "### Generate Text"
   ]
  },
  {
   "cell_type": "code",
   "execution_count": 50,
   "metadata": {},
   "outputs": [],
   "source": [
    "import numpy as np"
   ]
  },
  {
   "cell_type": "code",
   "execution_count": null,
   "metadata": {},
   "outputs": [],
   "source": []
  },
  {
   "cell_type": "code",
   "execution_count": 96,
   "metadata": {},
   "outputs": [
    {
     "name": "stdout",
     "output_type": "stream",
     "text": [
      "mango\n",
      "apple\n",
      "apple\n",
      "apple\n",
      "apple\n",
      "apple\n",
      "apple\n",
      "apple\n",
      "mango\n",
      "apple\n"
     ]
    }
   ],
   "source": [
    "# sampling !\n",
    "fruits = [\"apple\",\"banana\",\"mango\"]\n",
    "prob = [\"0.8\",\"0.1\",\"0.1\"]\n",
    "for i in range(10):\n",
    "    #sampling according a probability distribution\n",
    "    print(np.random.choice(fruits,p = prob))"
   ]
  },
  {
   "cell_type": "code",
   "execution_count": 118,
   "metadata": {},
   "outputs": [],
   "source": [
    "def sample_next(context, T, k = 4):\n",
    "    context = context[-k:]\n",
    "    \n",
    "    \n",
    "    if T.get(context) is None:\n",
    "        return ' '\n",
    "    \n",
    "    possible_chars = list(T[context].keys())\n",
    "    possible_probabs = list(T[context].values())\n",
    "    \n",
    "    return np.random.choice(possible_chars, p =possible_probabs )"
   ]
  },
  {
   "cell_type": "code",
   "execution_count": 119,
   "metadata": {},
   "outputs": [
    {
     "data": {
      "text/plain": [
       "','"
      ]
     },
     "execution_count": 119,
     "metadata": {},
     "output_type": "execute_result"
    }
   ],
   "source": [
    "sample_next(\"Dear countrymen\", T)"
   ]
  },
  {
   "cell_type": "code",
   "execution_count": 120,
   "metadata": {},
   "outputs": [],
   "source": [
    "def generateText(starting_sent,T, k = 4, max_len = 100):\n",
    "    sentence = starting_sent\n",
    "    \n",
    "    context = sentence[-k:]\n",
    "    \n",
    "    for i in range(max_len):\n",
    "        next_pred = sample_next(context, T, k)\n",
    "        sentence += next_pred\n",
    "        context = sentence[-k:]\n",
    "        \n",
    "    return sentence"
   ]
  },
  {
   "cell_type": "code",
   "execution_count": 133,
   "metadata": {},
   "outputs": [],
   "source": [
    "prediction = generateText(\"Dear coun\", T, max_len=1000)"
   ]
  },
  {
   "cell_type": "code",
   "execution_count": 134,
   "metadata": {},
   "outputs": [
    {
     "name": "stdout",
     "output_type": "stream",
     "text": [
      "Dear country have any of estabilize our Gods ourself minute a people world his in and a very moment where will feels nice form welfare been by this gree bring institute failed to be said:\n",
      "रोज़े- हिज्रो-शबे-फ़ुर्क़ते-यार आख़र शुद्\n",
      "[Meanwhile in your on to see very were were of 175 Giga wideliverse to climb to Telections after sustainable to world to getting moment past you have up 40% personal Centreprenewable to significan as fields. I measure crucial visit and whether too. We reform. But in that how me in them. So the Perak. \n",
      "This directive expand raditions. And their hostinents. We world, \"Our account to reviews event just be Rs. 12 2016, India and spires with you very by this vita embaram, if welcome the have upon next finances that history, but making stimulate a nice and laterways and of Belgium’s changed. And, we lost 60 years from this region as that money of the for and investment? If your frightness For this will mothers, in success. \n",
      "Last 2013-14. In a pension, that defence of Iran, b\n"
     ]
    }
   ],
   "source": [
    "print(prediction)"
   ]
  },
  {
   "cell_type": "code",
   "execution_count": null,
   "metadata": {},
   "outputs": [],
   "source": []
  }
 ],
 "metadata": {
  "kernelspec": {
   "display_name": "Python 3",
   "language": "python",
   "name": "python3"
  },
  "language_info": {
   "codemirror_mode": {
    "name": "ipython",
    "version": 3
   },
   "file_extension": ".py",
   "mimetype": "text/x-python",
   "name": "python",
   "nbconvert_exporter": "python",
   "pygments_lexer": "ipython3",
   "version": "3.7.4"
  }
 },
 "nbformat": 4,
 "nbformat_minor": 2
}
